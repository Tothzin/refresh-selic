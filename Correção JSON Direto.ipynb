{
 "cells": [
  {
   "cell_type": "code",
   "execution_count": 1,
   "id": "19241495-c9f6-4fa3-91e8-efdef6c453ae",
   "metadata": {
    "tags": []
   },
   "outputs": [
    {
     "name": "stdout",
     "output_type": "stream",
     "text": [
      "O valor corrigido do débito é R$10000.32\n"
     ]
    }
   ],
   "source": [
    "import requests\n",
    "from datetime import datetime, timedelta\n",
    "\n",
    "def get_selic_rate(date):\n",
    "    # Função para obter a taxa SELIC para uma determinada data\n",
    "    url = f'https://api.bcb.gov.br/dados/serie/bcdata.sgs.11/dados?formato=json&dataInicial={date}&dataFinal={date}'\n",
    "    response = requests.get(url)\n",
    "    data = response.json()\n",
    "    if len(data) > 0:\n",
    "        return float(data[0]['valor'])\n",
    "    else:\n",
    "        return None\n",
    "\n",
    "def calculate_correction(initial_value, start_date, end_date):\n",
    "    # Função para calcular a correção do débito pela taxa SELIC\n",
    "    current_date = start_date\n",
    "    current_value = initial_value\n",
    "\n",
    "    while current_date <= end_date:\n",
    "        selic_rate = get_selic_rate(current_date.strftime('%d/%m/%Y'))\n",
    "        if selic_rate is not None:\n",
    "            daily_factor = 1 + (selic_rate / 100 / 252)  # Considerando 252 dias úteis no ano\n",
    "            current_value *= daily_factor\n",
    "        else:\n",
    "            print(f'Não foi possível obter a taxa SELIC para {current_date.strftime(\"%d/%m/%Y\")}.')\n",
    "            return None\n",
    "        current_date += timedelta(days=1)\n",
    "\n",
    "    return current_value\n",
    "\n",
    "# Defina a data de início do débito\n",
    "start_date = datetime(2024, 2, 29)\n",
    "\n",
    "# Defina a data atual como a data de fim\n",
    "end_date = datetime.now()\n",
    "\n",
    "# Defina o valor inicial do débito\n",
    "initial_value = 10000.0  # Substitua pelo valor do seu débito\n",
    "\n",
    "# Calcule a correção do débito\n",
    "corrected_value = calculate_correction(initial_value, start_date, end_date)\n",
    "\n",
    "if corrected_value is not None:\n",
    "    print(f'O valor corrigido do débito é R${corrected_value:.2f}')\n"
   ]
  },
  {
   "cell_type": "code",
   "execution_count": 3,
   "id": "688709c6-696b-4d36-bbe5-30102a9df20f",
   "metadata": {
    "tags": []
   },
   "outputs": [
    {
     "name": "stdout",
     "output_type": "stream",
     "text": [
      "A taxa SELIC acumulada de 29/02/2024 até hoje é de 0.00%\n"
     ]
    }
   ],
   "source": [
    "import requests\n",
    "from datetime import datetime\n",
    "\n",
    "def get_selic_rates(start_date, end_date):\n",
    "    # Função para obter as taxas SELIC diárias no intervalo de datas especificado\n",
    "    url = f'https://api.bcb.gov.br/dados/serie/bcdata.sgs.11/dados?formato=json&dataInicial={start_date}&dataFinal={end_date}'\n",
    "    response = requests.get(url)\n",
    "    data = response.json()\n",
    "    selic_rates = {}\n",
    "    for entry in data:\n",
    "        date = datetime.strptime(entry['data'], '%d/%m/%Y')\n",
    "        rate = float(entry['valor'])\n",
    "        selic_rates[date] = rate\n",
    "    return selic_rates\n",
    "\n",
    "def calculate_cumulative_selic_rate(start_date, end_date):\n",
    "    # Função para calcular a taxa SELIC acumulada no intervalo de datas especificado\n",
    "    selic_rates = get_selic_rates(start_date.strftime('%d/%m/%Y'), end_date.strftime('%d/%m/%Y'))\n",
    "    cumulative_rate = 1.0\n",
    "    for date, rate in selic_rates.items():\n",
    "        daily_factor = 1 + (rate / 100 / 252)  # Considerando 252 dias úteis no ano\n",
    "        cumulative_rate *= daily_factor\n",
    "    cumulative_rate -= 1  # Subtrai 1 para obter a taxa acumulada\n",
    "    return cumulative_rate * 100  # Retorna a taxa acumulada em porcentagem\n",
    "\n",
    "# Defina a data de início (29 de fevereiro de 2024) e a data de hoje\n",
    "start_date = datetime(2024, 2, 29)\n",
    "end_date = datetime.now()\n",
    "\n",
    "# Calcule a taxa SELIC acumulada\n",
    "cumulative_rate = calculate_cumulative_selic_rate(start_date, end_date)\n",
    "print(f'A taxa SELIC acumulada de {start_date.strftime(\"%d/%m/%Y\")} até hoje é de {cumulative_rate:.2f}%')\n"
   ]
  },
  {
   "cell_type": "code",
   "execution_count": null,
   "id": "1d36fe44-0eb9-44a2-9872-78f4fd45e517",
   "metadata": {},
   "outputs": [],
   "source": []
  }
 ],
 "metadata": {
  "kernelspec": {
   "display_name": "Python 3 (ipykernel)",
   "language": "python",
   "name": "python3"
  },
  "language_info": {
   "codemirror_mode": {
    "name": "ipython",
    "version": 3
   },
   "file_extension": ".py",
   "mimetype": "text/x-python",
   "name": "python",
   "nbconvert_exporter": "python",
   "pygments_lexer": "ipython3",
   "version": "3.11.7"
  }
 },
 "nbformat": 4,
 "nbformat_minor": 5
}
