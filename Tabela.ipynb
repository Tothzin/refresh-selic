{
 "cells": [
  {
   "cell_type": "code",
   "execution_count": 1,
   "id": "c9b29602-7482-40bf-9daa-f662069c7e9f",
   "metadata": {
    "tags": []
   },
   "outputs": [],
   "source": [
    "from bcb import sgs\n",
    "import pandas as pd\n",
    "from matplotlib import pyplot as plt"
   ]
  },
  {
   "cell_type": "code",
   "execution_count": 7,
   "id": "37802c9f-3fd7-4a76-ab70-ea8e2f4f41dd",
   "metadata": {
    "tags": []
   },
   "outputs": [],
   "source": [
    "selic = sgs.get(('selic', 432), start = '2024-2-29')"
   ]
  },
  {
   "cell_type": "code",
   "execution_count": 9,
   "id": "0832cfdd-5be3-481f-969b-0f836f97509a",
   "metadata": {
    "tags": []
   },
   "outputs": [
    {
     "name": "stdout",
     "output_type": "stream",
     "text": [
      "               valor\n",
      "data                \n",
      "2024-03-11  0.041957\n",
      "2024-03-12  0.041957\n",
      "2024-03-13  0.041957\n",
      "2024-03-14  0.041957\n",
      "2024-03-15  0.041957\n"
     ]
    },
    {
     "name": "stderr",
     "output_type": "stream",
     "text": [
      "C:\\Users\\ebarros\\AppData\\Local\\Temp\\ipykernel_29236\\650638157.py:13: FutureWarning: Passing literal json to 'read_json' is deprecated and will be removed in a future version. To read from a literal string, wrap it in a 'StringIO' object.\n",
      "  selic_data = pd.read_json(response.text)\n"
     ]
    }
   ],
   "source": [
    "import pandas as pd\n",
    "import requests\n",
    "\n",
    "# Define the URL for the SELIC data API\n",
    "url = 'https://api.bcb.gov.br/dados/serie/bcdata.sgs.11/dados?formato=json'\n",
    "\n",
    "# Make a GET request to the API\n",
    "response = requests.get(url)\n",
    "\n",
    "# Check if the request was successful\n",
    "if response.status_code == 200:\n",
    "    # Load the data into a DataFrame\n",
    "    selic_data = pd.read_json(response.text)\n",
    "    # Convert the 'data' column to datetime\n",
    "    selic_data['data'] = pd.to_datetime(selic_data['data'], format='%d/%m/%Y')\n",
    "    # Set the 'data' column as the index\n",
    "    selic_data.set_index('data', inplace=True)\n",
    "    # Sort the index in ascending order\n",
    "    selic_data.sort_index(inplace=True)\n",
    "    print(selic_data.tail())\n",
    "else:\n",
    "    print(\"Failed to retrieve SELIC data from the Brazilian Central Bank API\")"
   ]
  },
  {
   "cell_type": "code",
   "execution_count": 11,
   "id": "03cef9e0-26f6-4847-bb69-da930ae6c013",
   "metadata": {
    "tags": []
   },
   "outputs": [],
   "source": [
    "import yfinance as yf"
   ]
  },
  {
   "cell_type": "code",
   "execution_count": 16,
   "id": "cc2b4baa-5a81-43dd-a7b1-7356a2a39b83",
   "metadata": {
    "tags": []
   },
   "outputs": [
    {
     "name": "stderr",
     "output_type": "stream",
     "text": [
      "[*********************100%%**********************]  1 of 1 completed\n",
      "C:\\Users\\ebarros\\AppData\\Local\\Temp\\ipykernel_29236\\3829849112.py:9: FutureWarning: Series.__getitem__ treating keys as positions is deprecated. In a future version, integer keys will always be treated as labels (consistent with DataFrame behavior). To access a value by position, use `ser.iloc[pos]`\n",
      "  latest_selic_index = selic_data['Close'][-1]\n"
     ]
    }
   ],
   "source": [
    "import yfinance as yf\n",
    "import openpyxl\n",
    "from datetime import datetime\n",
    "\n",
    "# Fetch the daily Selic index using yfinance\n",
    "selic_data = yf.download('^GSPTSE', start='2024-02-29', end='2024-03-18')\n",
    "\n",
    "# Extract the latest Selic index value\n",
    "latest_selic_index = selic_data['Close'][-1]\n",
    "\n",
    "# Open the Excel file\n",
    "workbook = openpyxl.load_workbook(r\"C:\\Users\\ebarros\\OneDrive - Piaui Níquel Metais S.A\\Documentos\\20240315_VBA Teste_Correçao4.xlsm\")\n",
    "\n",
    "# Select the specific sheet and cell to update\n",
    "sheet = workbook['Planilha1']\n",
    "cell = sheet['J1']\n",
    "\n",
    "# Update the cell value with the latest Selic index\n",
    "cell.value = latest_selic_index\n",
    "\n",
    "# Save the changes to the Excel file\n",
    "workbook.save(r\"C:\\Users\\ebarros\\OneDrive - Piaui Níquel Metais S.A\\Documentos\\20240315_VBA Teste_Correçao4.xlsm\")"
   ]
  },
  {
   "cell_type": "code",
   "execution_count": null,
   "id": "ffc7f511-9862-48f5-adab-ae440617c1c8",
   "metadata": {},
   "outputs": [],
   "source": []
  }
 ],
 "metadata": {
  "kernelspec": {
   "display_name": "Python 3 (ipykernel)",
   "language": "python",
   "name": "python3"
  },
  "language_info": {
   "codemirror_mode": {
    "name": "ipython",
    "version": 3
   },
   "file_extension": ".py",
   "mimetype": "text/x-python",
   "name": "python",
   "nbconvert_exporter": "python",
   "pygments_lexer": "ipython3",
   "version": "3.11.7"
  }
 },
 "nbformat": 4,
 "nbformat_minor": 5
}
