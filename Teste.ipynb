{
 "cells": [
  {
   "cell_type": "code",
   "execution_count": 1,
   "id": "d19fd048-8ea6-4435-aa57-0d9c5ca991a7",
   "metadata": {
    "tags": []
   },
   "outputs": [
    {
     "name": "stdout",
     "output_type": "stream",
     "text": [
      "2024-02-29    1000.174685\n",
      "2024-03-01    1000.174685\n",
      "2024-03-04    1000.174685\n",
      "2024-03-05    1000.174685\n",
      "2024-03-06    1000.174685\n",
      "                 ...     \n",
      "2024-12-25    1000.174685\n",
      "2024-12-26    1000.174685\n",
      "2024-12-27    1000.174685\n",
      "2024-12-30    1000.174685\n",
      "2024-12-31    1000.174685\n",
      "Freq: B, Length: 219, dtype: float64\n"
     ]
    }
   ],
   "source": [
    "import numpy as np\n",
    "import pandas as pd\n",
    "\n",
    "def calculate_updated_value(initial_value, selic_index, start_date, end_date):\n",
    "    trading_days_per_year = 252\n",
    "    date_range = pd.date_range(start=start_date, end=end_date, freq='B')  # Business day frequency\n",
    "    daily_selic_index = pd.Series(selic_index, index=date_range)\n",
    "    updated_values = initial_value * (1 + (daily_selic_index / 100)) ** (1/trading_days_per_year)\n",
    "    return updated_values\n",
    "\n",
    "# Example usage\n",
    "initial_value = 1000  # Replace with your initial value\n",
    "selic_index = 4.5  # Replace with the daily Selic Index\n",
    "start_date = '2024-02-29'\n",
    "end_date = '2024-12-31'  # Replace with the end date\n",
    "updated_values = calculate_updated_value(initial_value, selic_index, start_date, end_date)\n",
    "print(updated_values)"
   ]
  },
  {
   "cell_type": "code",
   "execution_count": 3,
   "id": "b6e166d0-cbca-4f9f-95de-989acef7bd85",
   "metadata": {
    "tags": []
   },
   "outputs": [
    {
     "name": "stdout",
     "output_type": "stream",
     "text": [
      "2024-02-29    1000.174685\n",
      "2024-03-01    1000.174685\n",
      "2024-03-04    1000.174685\n",
      "2024-03-05    1000.174685\n",
      "2024-03-06    1000.174685\n",
      "2024-03-07    1000.174685\n",
      "2024-03-08    1000.174685\n",
      "2024-03-11    1000.174685\n",
      "2024-03-12    1000.174685\n",
      "2024-03-13    1000.174685\n",
      "2024-03-14    1000.174685\n",
      "2024-03-15    1000.174685\n",
      "2024-03-18    1000.174685\n",
      "Freq: B, dtype: float64\n"
     ]
    }
   ],
   "source": [
    "import numpy as np\n",
    "import pandas as pd\n",
    "\n",
    "def calculate_updated_value(initial_value, selic_index, start_date, end_date):\n",
    "    trading_days_per_year = 252\n",
    "    date_range = pd.date_range(start=start_date, end=end_date, freq='B')  # Business day frequency\n",
    "    daily_selic_index = pd.Series(selic_index, index=date_range)\n",
    "    updated_values = initial_value * (1 + (daily_selic_index / 100)) ** (1/trading_days_per_year)\n",
    "    return updated_values\n",
    "\n",
    "# Example usage\n",
    "initial_value = 1000  # Replace with your initial value\n",
    "selic_index = 4.5  # Replace with the daily Selic Index\n",
    "start_date = '2024-02-29'\n",
    "end_date = 'today'  # Replace with the end date\n",
    "updated_values = calculate_updated_value(initial_value, selic_index, start_date, end_date)\n",
    "print(updated_values)"
   ]
  },
  {
   "cell_type": "code",
   "execution_count": null,
   "id": "30712d83-06fa-44b2-a7ee-695858a10d9e",
   "metadata": {},
   "outputs": [],
   "source": []
  }
 ],
 "metadata": {
  "kernelspec": {
   "display_name": "Python 3 (ipykernel)",
   "language": "python",
   "name": "python3"
  },
  "language_info": {
   "codemirror_mode": {
    "name": "ipython",
    "version": 3
   },
   "file_extension": ".py",
   "mimetype": "text/x-python",
   "name": "python",
   "nbconvert_exporter": "python",
   "pygments_lexer": "ipython3",
   "version": "3.11.7"
  }
 },
 "nbformat": 4,
 "nbformat_minor": 5
}
